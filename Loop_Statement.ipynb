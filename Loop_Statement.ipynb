{
  "nbformat": 4,
  "nbformat_minor": 0,
  "metadata": {
    "colab": {
      "provenance": [],
      "authorship_tag": "ABX9TyOaATQbFX3tliq7nTPBwLLh",
      "include_colab_link": true
    },
    "kernelspec": {
      "name": "python3",
      "display_name": "Python 3"
    },
    "language_info": {
      "name": "python"
    }
  },
  "cells": [
    {
      "cell_type": "markdown",
      "metadata": {
        "id": "view-in-github",
        "colab_type": "text"
      },
      "source": [
        "<a href=\"https://colab.research.google.com/github/jastineedg/PLM-Elective-3-Lab/blob/main/Loop_Statement.ipynb\" target=\"_parent\"><img src=\"https://colab.research.google.com/assets/colab-badge.svg\" alt=\"Open In Colab\"/></a>"
      ]
    },
    {
      "cell_type": "markdown",
      "source": [
        "TEST CODE FOR PYTHON\n",
        "\n",
        "I made this to test my knowledge on Python."
      ],
      "metadata": {
        "id": "vMgwiePFwR6K"
      }
    },
    {
      "cell_type": "code",
      "execution_count": null,
      "metadata": {
        "colab": {
          "base_uri": "https://localhost:8080/"
        },
        "id": "9xYwpyoHShWn",
        "outputId": "1dccaa27-5fd3-418b-fa98-dcb68be286b0"
      },
      "outputs": [
        {
          "output_type": "stream",
          "name": "stdout",
          "text": [
            "Hello! How many times do you want to print x in a triangular form? 20\n",
            "\n",
            "x\n",
            "xx\n",
            "xxx\n",
            "xxxx\n",
            "xxxxx\n",
            "xxxxxx\n",
            "xxxxxxx\n",
            "xxxxxxxx\n",
            "xxxxxxxxx\n",
            "xxxxxxxxxx\n",
            "xxxxxxxxxxx\n",
            "xxxxxxxxxxxx\n",
            "xxxxxxxxxxxxx\n",
            "xxxxxxxxxxxxxx\n",
            "xxxxxxxxxxxxxxx\n",
            "xxxxxxxxxxxxxxxx\n",
            "xxxxxxxxxxxxxxxxx\n",
            "xxxxxxxxxxxxxxxxxx\n",
            "xxxxxxxxxxxxxxxxxxx\n",
            "xxxxxxxxxxxxxxxxxxxx\n"
          ]
        }
      ],
      "source": [
        "user_input = int(input(\"Hello! How many times do you want to print x in a triangular form? \"))\n",
        "for i in range (1, user_input + 2):\n",
        "    for j in range (1, i): #prints x in i times\n",
        "        print (\"x\", end = \"\")\n",
        "    print()\n"
      ]
    },
    {
      "cell_type": "markdown",
      "source": [
        "For Loop: Example 1"
      ],
      "metadata": {
        "id": "y5TWoEDSe6eq"
      }
    },
    {
      "cell_type": "code",
      "source": [
        "week = [\"Sunday\", \"Monday\", \"Tuesday\", \"Wednesday\", \"Thursday\", \"Friday\", \"Saturday\"]\n",
        "for x in week:\n",
        "  print (x)"
      ],
      "metadata": {
        "colab": {
          "base_uri": "https://localhost:8080/"
        },
        "id": "1s2dpoLEZkpl",
        "outputId": "cd8b63e7-f066-4bc6-86eb-eaa2d287a572"
      },
      "execution_count": null,
      "outputs": [
        {
          "output_type": "stream",
          "name": "stdout",
          "text": [
            "Sunday\n",
            "Monday\n",
            "Tuesday\n",
            "Wednesday\n",
            "Thursday\n",
            "Friday\n",
            "Saturday\n"
          ]
        }
      ]
    },
    {
      "cell_type": "markdown",
      "source": [
        "For Loop: Example 2"
      ],
      "metadata": {
        "id": "adbUHxw_e6lc"
      }
    },
    {
      "cell_type": "code",
      "source": [
        "week = [\"Sunday\", \"Monday\", \"Tuesday\", \"Wednesday\", \"Thursday\", \"Friday\", \"Saturday\"]\n",
        "for x in week:\n",
        "  print (x)\n",
        "  if x == \"Thursday\":\n",
        "    break # will terminate the entire for loop execution, not the if statement alone"
      ],
      "metadata": {
        "colab": {
          "base_uri": "https://localhost:8080/"
        },
        "id": "OD7NrcvZe7yT",
        "outputId": "79b324bb-5092-4bc1-a3f4-4885d2590853"
      },
      "execution_count": null,
      "outputs": [
        {
          "output_type": "stream",
          "name": "stdout",
          "text": [
            "Sunday\n",
            "Monday\n",
            "Tuesday\n",
            "Wednesday\n",
            "Thursday\n"
          ]
        }
      ]
    },
    {
      "cell_type": "markdown",
      "source": [
        "For Loop: Example 3"
      ],
      "metadata": {
        "id": "wepWK3HPe6oD"
      }
    },
    {
      "cell_type": "code",
      "source": [
        "week = [\"Sunday\", \"Monday\", \"Tuesday\", \"Wednesday\", \"Thursday\", \"Friday\", \"Saturday\"]\n",
        "for x in week:\n",
        "  if x == \"Thursday\":\n",
        "    break # will terminate the entire for loop execution, not the if statement alone\n",
        "  print (x)"
      ],
      "metadata": {
        "colab": {
          "base_uri": "https://localhost:8080/"
        },
        "id": "p--ltFd8e740",
        "outputId": "13df9a4c-9266-40f8-9904-df0fd6c755e5"
      },
      "execution_count": null,
      "outputs": [
        {
          "output_type": "stream",
          "name": "stdout",
          "text": [
            "Sunday\n",
            "Monday\n",
            "Tuesday\n",
            "Wednesday\n"
          ]
        }
      ]
    },
    {
      "cell_type": "markdown",
      "source": [
        "For Loop: Example 4"
      ],
      "metadata": {
        "id": "Y9tZdhD0e6qi"
      }
    },
    {
      "cell_type": "code",
      "source": [
        "for x in \"week\":\n",
        "  print (x)"
      ],
      "metadata": {
        "colab": {
          "base_uri": "https://localhost:8080/"
        },
        "id": "m2Jo9oype77K",
        "outputId": "b325e4c7-0eec-46d4-d0e5-223d04bc36b9"
      },
      "execution_count": null,
      "outputs": [
        {
          "output_type": "stream",
          "name": "stdout",
          "text": [
            "w\n",
            "e\n",
            "e\n",
            "k\n"
          ]
        }
      ]
    },
    {
      "cell_type": "markdown",
      "source": [
        "Application Number 3: Thursday only"
      ],
      "metadata": {
        "id": "3VPAkIYie6tS"
      }
    },
    {
      "cell_type": "code",
      "source": [
        "week = [\"Sunday\", \"Monday\", \"Tuesday\", \"Wednesday\", \"Thursday\", \"Friday\", \"Saturday\"]\n",
        "for x in week:\n",
        "  if x == \"Thursday\":\n",
        "    break # will terminate the entire for loop execution, not the if statement alone\n",
        "print (x) # will only print the last x value, which is Thursday since it has been terminated already after Thursday"
      ],
      "metadata": {
        "colab": {
          "base_uri": "https://localhost:8080/"
        },
        "id": "j6EPm_jIe79a",
        "outputId": "f1e5209c-476f-427e-c423-720b2307ff8a"
      },
      "execution_count": null,
      "outputs": [
        {
          "output_type": "stream",
          "name": "stdout",
          "text": [
            "Thursday\n"
          ]
        }
      ]
    },
    {
      "cell_type": "markdown",
      "source": [
        "The range() Function: Example 1\n",
        "\n"
      ],
      "metadata": {
        "id": "HLrvFKZLlu9M"
      }
    },
    {
      "cell_type": "code",
      "source": [
        "for x in range(6): #exclusive of 6\n",
        "  print(x)\n",
        "for x in range(2,6): #inclusive of 2, exclusive of 6\n",
        "  print(x)\n",
        "for x in range(2,6,2): #inclusive of 2, exclusive of 6, interval of 2\n",
        "  print(x)"
      ],
      "metadata": {
        "colab": {
          "base_uri": "https://localhost:8080/"
        },
        "id": "Y_NS2HdifEDr",
        "outputId": "5522d529-5958-4ddb-b920-7852fed30bbd"
      },
      "execution_count": null,
      "outputs": [
        {
          "output_type": "stream",
          "name": "stdout",
          "text": [
            "0\n",
            "1\n",
            "2\n",
            "3\n",
            "4\n",
            "5\n",
            "2\n",
            "3\n",
            "4\n",
            "5\n",
            "2\n",
            "4\n"
          ]
        }
      ]
    },
    {
      "cell_type": "markdown",
      "source": [
        "Nested Loops: Example 1"
      ],
      "metadata": {
        "id": "meoeHTyefDR8"
      }
    },
    {
      "cell_type": "code",
      "source": [
        "adjective = [\"red\", \"big\", \"tasty\"]\n",
        "fruits = [\"apple\", \"banana\", \"cherry\"]\n",
        "\n",
        "for x in adjective: #starts with the first value\n",
        "  for y in fruits: #goes through each value before returning to the outer for loop\n",
        "    print(x,y)"
      ],
      "metadata": {
        "colab": {
          "base_uri": "https://localhost:8080/"
        },
        "id": "Z3uc1nuBfEGa",
        "outputId": "38fda827-69bc-4b4f-a7ff-a68e14c0ad84"
      },
      "execution_count": null,
      "outputs": [
        {
          "output_type": "stream",
          "name": "stdout",
          "text": [
            "red apple\n",
            "red banana\n",
            "red cherry\n",
            "big apple\n",
            "big banana\n",
            "big cherry\n",
            "tasty apple\n",
            "tasty banana\n",
            "tasty cherry\n"
          ]
        }
      ]
    },
    {
      "cell_type": "markdown",
      "source": [
        "Python While Loops: Example 1"
      ],
      "metadata": {
        "id": "g51VDnTKfDXr"
      }
    },
    {
      "cell_type": "code",
      "source": [
        "i = 1\n",
        "while i<6:\n",
        "  print (i)\n",
        "  i += 1"
      ],
      "metadata": {
        "colab": {
          "base_uri": "https://localhost:8080/"
        },
        "id": "5DbdEE7qfEJC",
        "outputId": "6cb1063e-6b55-4668-f426-b82f62462ff8"
      },
      "execution_count": null,
      "outputs": [
        {
          "output_type": "stream",
          "name": "stdout",
          "text": [
            "1\n",
            "2\n",
            "3\n",
            "4\n",
            "5\n"
          ]
        }
      ]
    },
    {
      "cell_type": "markdown",
      "source": [
        "Python While Loops: Example 2"
      ],
      "metadata": {
        "id": "10ardqjKfDcj"
      }
    },
    {
      "cell_type": "code",
      "source": [
        "i = 1\n",
        "while i<6:\n",
        "  print (i)\n",
        "  if i == 3:\n",
        "    break\n",
        "  i += 1"
      ],
      "metadata": {
        "colab": {
          "base_uri": "https://localhost:8080/"
        },
        "id": "18QwaKf-fELq",
        "outputId": "0ffdf160-d04d-4fb6-9124-f907f35fd934"
      },
      "execution_count": null,
      "outputs": [
        {
          "output_type": "stream",
          "name": "stdout",
          "text": [
            "1\n",
            "2\n",
            "3\n"
          ]
        }
      ]
    },
    {
      "cell_type": "markdown",
      "source": [
        "Python While Loops: Example 3"
      ],
      "metadata": {
        "id": "7KkjasIxfDhb"
      }
    },
    {
      "cell_type": "code",
      "source": [
        "i = 0\n",
        "while i<6:\n",
        "  i += 1\n",
        "  if i == 3:\n",
        "    continue #means continue to the next number, thus, skipped\n",
        "  print (i)"
      ],
      "metadata": {
        "colab": {
          "base_uri": "https://localhost:8080/"
        },
        "id": "Rz9sdSmofEOK",
        "outputId": "63895f68-d839-4101-c273-2f908fd21cfc"
      },
      "execution_count": null,
      "outputs": [
        {
          "output_type": "stream",
          "name": "stdout",
          "text": [
            "1\n",
            "2\n",
            "4\n",
            "5\n",
            "6\n"
          ]
        }
      ]
    },
    {
      "cell_type": "markdown",
      "source": [
        "Python While Loops: Example 4"
      ],
      "metadata": {
        "id": "YIgC-hhRfDnq"
      }
    },
    {
      "cell_type": "code",
      "source": [
        "i = 1\n",
        "while i<6:\n",
        "  print (i)\n",
        "  i += 1\n",
        "else: #like an if-else statement, having while as the if\n",
        "  print (\"i is no longer less than 6\")"
      ],
      "metadata": {
        "colab": {
          "base_uri": "https://localhost:8080/"
        },
        "id": "znGcBshMfESi",
        "outputId": "8d1def12-7aae-4891-d2fc-840e23a2eb9d"
      },
      "execution_count": null,
      "outputs": [
        {
          "output_type": "stream",
          "name": "stdout",
          "text": [
            "1\n",
            "2\n",
            "3\n",
            "4\n",
            "5\n",
            "i is no longer less than 6\n"
          ]
        }
      ]
    },
    {
      "cell_type": "markdown",
      "source": [
        "Application 4: Create a Python program that displays:​\n",
        "\n",
        "\t\tHello 0​\n",
        "\n",
        "\t\tHello 1​\n",
        "\n",
        "\t\tHello 2\n",
        "\n",
        "\t\tHello 3\n",
        "    \n",
        "\t\tHello 4​\n",
        "\n",
        "\t\tHello 5​\n",
        "\n",
        "\t\tHello 6​\n",
        "\n",
        "\t\tHello 7​\n",
        "\n",
        "\t\tHello 8​\n",
        "\n",
        "\t\tHello 9​\n",
        "\n",
        "\t\tHello 10​"
      ],
      "metadata": {
        "id": "m9TQiNgXfDyK"
      }
    },
    {
      "cell_type": "code",
      "source": [
        "i = 0\n",
        "while i <= 10: #will execute the condition when i is less than or equal to 10\n",
        "  print(\"Hello\", i) #will print the string \"Hello\", followed by the index as part of the output\n",
        "  i += 1"
      ],
      "metadata": {
        "colab": {
          "base_uri": "https://localhost:8080/"
        },
        "id": "0iJkZqB7e7_z",
        "outputId": "49cf1fce-9d3a-4918-9b21-4f9b47cfd8d3"
      },
      "execution_count": null,
      "outputs": [
        {
          "output_type": "stream",
          "name": "stdout",
          "text": [
            "Hello 0\n",
            "Hello 1\n",
            "Hello 2\n",
            "Hello 3\n",
            "Hello 4\n",
            "Hello 5\n",
            "Hello 6\n",
            "Hello 7\n",
            "Hello 8\n",
            "Hello 9\n",
            "Hello 10\n"
          ]
        }
      ]
    },
    {
      "cell_type": "markdown",
      "source": [
        "Application 5: Create a Python program that displays integers less than 10 but not less than 3"
      ],
      "metadata": {
        "id": "aP4mbjjmr9OV"
      }
    },
    {
      "cell_type": "code",
      "source": [
        "i = 1\n",
        "while i < 10:\n",
        "  i += 1\n",
        "  if i < 3:\n",
        "    continue\n",
        "  if i >= 10:\n",
        "    break\n",
        "  print (i)"
      ],
      "metadata": {
        "colab": {
          "base_uri": "https://localhost:8080/"
        },
        "id": "yJbo3DS8rsXb",
        "outputId": "5313f74b-656b-4753-af4f-c505b54213ad"
      },
      "execution_count": null,
      "outputs": [
        {
          "output_type": "stream",
          "name": "stdout",
          "text": [
            "3\n",
            "4\n",
            "5\n",
            "6\n",
            "7\n",
            "8\n",
            "9\n"
          ]
        }
      ]
    }
  ]
}