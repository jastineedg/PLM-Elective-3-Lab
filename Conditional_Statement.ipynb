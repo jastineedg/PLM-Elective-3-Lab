{
  "nbformat": 4,
  "nbformat_minor": 0,
  "metadata": {
    "colab": {
      "provenance": [],
      "authorship_tag": "ABX9TyO4CrzCJfhPlnMIQhh8j1c3",
      "include_colab_link": true
    },
    "kernelspec": {
      "name": "python3",
      "display_name": "Python 3"
    },
    "language_info": {
      "name": "python"
    }
  },
  "cells": [
    {
      "cell_type": "markdown",
      "metadata": {
        "id": "view-in-github",
        "colab_type": "text"
      },
      "source": [
        "<a href=\"https://colab.research.google.com/github/jastineedg/PLM-Elective-3-Lab/blob/main/Conditional_Statement.ipynb\" target=\"_parent\"><img src=\"https://colab.research.google.com/assets/colab-badge.svg\" alt=\"Open In Colab\"/></a>"
      ]
    },
    {
      "cell_type": "markdown",
      "source": [
        "If Statement"
      ],
      "metadata": {
        "id": "iTE7ARN2CTgs"
      }
    },
    {
      "cell_type": "code",
      "source": [
        "a=12\n",
        "b=100\n",
        "if b>a:\n",
        "  print(\"b is greater than a\")"
      ],
      "metadata": {
        "colab": {
          "base_uri": "https://localhost:8080/"
        },
        "id": "Yu69Db09Brq5",
        "outputId": "11472ce0-0057-43db-9aac-c56ff23c802c"
      },
      "execution_count": 3,
      "outputs": [
        {
          "output_type": "stream",
          "name": "stdout",
          "text": [
            "b is greater than a\n"
          ]
        }
      ]
    },
    {
      "cell_type": "markdown",
      "source": [
        "Elif Statements"
      ],
      "metadata": {
        "id": "SyLQiY_IDAp1"
      }
    },
    {
      "cell_type": "code",
      "source": [
        "a=12\n",
        "b=12\n",
        "if b>a:\n",
        "  print(\"b is greater than a\")\n",
        "elif a==b:\n",
        "  print(\"a and b are equal\")"
      ],
      "metadata": {
        "colab": {
          "base_uri": "https://localhost:8080/"
        },
        "id": "JP81QUwgCkle",
        "outputId": "eea51228-6edc-45e3-dae8-dadf162f9aad"
      },
      "execution_count": 4,
      "outputs": [
        {
          "output_type": "stream",
          "name": "stdout",
          "text": [
            "a and b are equal\n"
          ]
        }
      ]
    },
    {
      "cell_type": "markdown",
      "source": [
        "Else Statements"
      ],
      "metadata": {
        "id": "E4VDGlLMDFjJ"
      }
    },
    {
      "cell_type": "code",
      "execution_count": 13,
      "metadata": {
        "colab": {
          "base_uri": "https://localhost:8080/"
        },
        "id": "ndUNBpCmBRaE",
        "outputId": "e5db53bc-1603-421b-82cf-4d7725b23f85"
      },
      "outputs": [
        {
          "output_type": "stream",
          "name": "stdout",
          "text": [
            "a is greater than b\n"
          ]
        }
      ],
      "source": [
        "a=200\n",
        "b=33\n",
        "if b>a:\n",
        "  print(\"b is greater than a\")\n",
        "elif a==b:\n",
        "  print(\"a and b are equal\")\n",
        "else:\n",
        "  print(\"a is greater than b\")"
      ]
    },
    {
      "cell_type": "code",
      "source": [
        "input_age=input(\"How old are you?\")\n",
        "user_age=int(input_age)\n",
        "\n",
        "if user_age>=18:\n",
        "  print(\"You are ALREADY qualified to have an driving licensure examination!\")\n",
        "else:\n",
        "  print(\"You are NOT YET qualified to have a driving licensure examination!\")"
      ],
      "metadata": {
        "colab": {
          "base_uri": "https://localhost:8080/"
        },
        "id": "TAC_JPk5DKrM",
        "outputId": "9cb1cc7b-5798-462e-9942-0891bee82757"
      },
      "execution_count": 8,
      "outputs": [
        {
          "output_type": "stream",
          "name": "stdout",
          "text": [
            "How old are you?17\n",
            "You are NOT YET qualified to have a driving licensure examination!\n"
          ]
        }
      ]
    },
    {
      "cell_type": "code",
      "source": [
        "number_input=int(input(\"Enter a number \"))\n",
        "if number_input > 0:\n",
        "  print(\"You entered a positive number.\")\n",
        "elif number_input < 0:\n",
        "  print(\"You entered a negative number.\")\n",
        "else:\n",
        "  print(\"You entered a zero digit.\")"
      ],
      "metadata": {
        "colab": {
          "base_uri": "https://localhost:8080/"
        },
        "id": "O-lFQtpIC53s",
        "outputId": "4d870856-41af-433e-f5ac-b6f5c5df7264"
      },
      "execution_count": 10,
      "outputs": [
        {
          "output_type": "stream",
          "name": "stdout",
          "text": [
            "Enter a number 3\n",
            "You entered a positive number.\n"
          ]
        }
      ]
    },
    {
      "cell_type": "markdown",
      "source": [
        "Short Hand If Statement"
      ],
      "metadata": {
        "id": "fq36XxMKFjdb"
      }
    },
    {
      "cell_type": "code",
      "source": [
        "if a>b: print(\"a is greater than b\")"
      ],
      "metadata": {
        "colab": {
          "base_uri": "https://localhost:8080/"
        },
        "id": "Gh7jj44TFNVg",
        "outputId": "5a6f2049-cb29-442a-fa9f-107c0d419a95"
      },
      "execution_count": 14,
      "outputs": [
        {
          "output_type": "stream",
          "name": "stdout",
          "text": [
            "a is greater than b\n"
          ]
        }
      ]
    },
    {
      "cell_type": "markdown",
      "source": [
        "Short Hand If Else Statement"
      ],
      "metadata": {
        "id": "v6PMd9C9F_Ij"
      }
    },
    {
      "cell_type": "code",
      "source": [
        "c=2\n",
        "d=330\n",
        "print(\"C\") if c>d else print(\"D\")"
      ],
      "metadata": {
        "colab": {
          "base_uri": "https://localhost:8080/"
        },
        "id": "Wle9rQkSFcua",
        "outputId": "5dcc0c07-adf9-4284-d134-371ae1672cd9"
      },
      "execution_count": 15,
      "outputs": [
        {
          "output_type": "stream",
          "name": "stdout",
          "text": [
            "D\n"
          ]
        }
      ]
    },
    {
      "cell_type": "markdown",
      "source": [
        "AND Statement"
      ],
      "metadata": {
        "id": "8avmS63WGtfG"
      }
    },
    {
      "cell_type": "code",
      "source": [
        "a = 200\n",
        "b = 33\n",
        "c = 500\n",
        "if a > b and c > a:\n",
        "  print(\"Both conditions are TRUE.\")"
      ],
      "metadata": {
        "colab": {
          "base_uri": "https://localhost:8080/"
        },
        "id": "YlnKEy4zF9gu",
        "outputId": "71ab4148-d54b-46e4-b2e7-65ac4112a50a"
      },
      "execution_count": 16,
      "outputs": [
        {
          "output_type": "stream",
          "name": "stdout",
          "text": [
            "Both conditions are TRUE.\n"
          ]
        }
      ]
    },
    {
      "cell_type": "markdown",
      "source": [
        "OR Statement"
      ],
      "metadata": {
        "id": "RA_sGTRgGt0s"
      }
    },
    {
      "cell_type": "code",
      "source": [
        "a = 200\n",
        "b = 33\n",
        "c = 500\n",
        "if a > b or a > c:\n",
        "  print(\"At least one of the conditions is TRUE.\")"
      ],
      "metadata": {
        "colab": {
          "base_uri": "https://localhost:8080/"
        },
        "id": "Izl71aeZGgG4",
        "outputId": "632b3e02-e759-4353-adef-713ecf4090cc"
      },
      "execution_count": 17,
      "outputs": [
        {
          "output_type": "stream",
          "name": "stdout",
          "text": [
            "At least one of the conditions is TRUE.\n"
          ]
        }
      ]
    },
    {
      "cell_type": "markdown",
      "source": [
        "Nested If"
      ],
      "metadata": {
        "id": "ZOiP2FoNHABa"
      }
    },
    {
      "cell_type": "code",
      "source": [
        "x=int(input(\"Enter a number: \"))\n",
        "if x > 10:\n",
        "  print(x,\"is above 10.\")\n",
        "  if x > 20:\n",
        "    print(\"Also, it is above 20.\")\n",
        "    if x > 30:\n",
        "      print(\"Moreover, it is also above 30.\")\n",
        "      if x > 40:\n",
        "        print(\"Lastly, it is also above 40.\")\n",
        "  else:\n",
        "    print(\"yet is not above 20.\")\n",
        "else:\n",
        "  print(\"Value is not above 10.\")"
      ],
      "metadata": {
        "colab": {
          "base_uri": "https://localhost:8080/"
        },
        "id": "GymViFqcGsTZ",
        "outputId": "ec7eda60-e6a9-4e8f-9e13-81695b622975"
      },
      "execution_count": 28,
      "outputs": [
        {
          "output_type": "stream",
          "name": "stdout",
          "text": [
            "Enter a number: 25\n",
            "25 is above 10.\n",
            "Also, it is above 20.\n"
          ]
        }
      ]
    },
    {
      "cell_type": "markdown",
      "source": [
        "Application 2\n",
        "If:\n",
        "grade > = 75 , “Passed”​\n",
        "grade = 74, “Remedial”​\n",
        "grade < 74, “Failed”​\n",
        "note: if grade is a negative number, it will not accepted"
      ],
      "metadata": {
        "id": "6cEZWbKSLZgN"
      }
    },
    {
      "cell_type": "code",
      "source": [
        "grade = float(input(\"Enter your grade: \"))\n",
        "\n",
        "if grade >= 0 and grade <= 100:\n",
        "  if grade >= 75:\n",
        "    print(\"Given your grade of\", grade, \", your remarks is PASSED.\")\n",
        "  elif grade >= 74 and grade < 75:\n",
        "      print(\"Given your grade of\", grade, \", your remarks is REMEDIAL.\")\n",
        "  elif grade < 74:\n",
        "      print(\"Given your grade of\", grade, \", your remarks is FAILED.\")\n",
        "else:\n",
        "  print(\"Please enter a valid grade.\")"
      ],
      "metadata": {
        "colab": {
          "base_uri": "https://localhost:8080/"
        },
        "id": "TY05i9xYHsin",
        "outputId": "e4724117-7e26-4d0e-b4da-0a6c6b2a8166"
      },
      "execution_count": 10,
      "outputs": [
        {
          "output_type": "stream",
          "name": "stdout",
          "text": [
            "Enter your grade: 74\n",
            "Given your grade of 74.0 , your remarks is REMEDIAL.\n"
          ]
        }
      ]
    }
  ]
}