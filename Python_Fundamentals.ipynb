{
  "nbformat": 4,
  "nbformat_minor": 0,
  "metadata": {
    "colab": {
      "provenance": [],
      "authorship_tag": "ABX9TyNgSn/oFTKFggcbbIph2HeU",
      "include_colab_link": true
    },
    "kernelspec": {
      "name": "python3",
      "display_name": "Python 3"
    },
    "language_info": {
      "name": "python"
    }
  },
  "cells": [
    {
      "cell_type": "markdown",
      "metadata": {
        "id": "view-in-github",
        "colab_type": "text"
      },
      "source": [
        "<a href=\"https://colab.research.google.com/github/jastineedg/PLM-Elective-3-Lab/blob/main/Python_Fundamentals.ipynb\" target=\"_parent\"><img src=\"https://colab.research.google.com/assets/colab-badge.svg\" alt=\"Open In Colab\"/></a>"
      ]
    },
    {
      "cell_type": "markdown",
      "source": [
        "Python Indentation"
      ],
      "metadata": {
        "id": "sYxoG7eQi6Yw"
      }
    },
    {
      "cell_type": "code",
      "source": [
        "x=5\n",
        "y=2\n",
        "if x>y:\n",
        "  print(\"Five is greater than two!\")"
      ],
      "metadata": {
        "colab": {
          "base_uri": "https://localhost:8080/"
        },
        "id": "L0Eayt2AiR98",
        "outputId": "cedb1607-b1da-4b00-a0ab-8ac6c38d0e62"
      },
      "execution_count": 12,
      "outputs": [
        {
          "output_type": "stream",
          "name": "stdout",
          "text": [
            "Five is greater than two!\n"
          ]
        }
      ]
    },
    {
      "cell_type": "markdown",
      "source": [
        "Python Comments"
      ],
      "metadata": {
        "id": "vF30xVSzkXwh"
      }
    },
    {
      "cell_type": "code",
      "source": [
        "print(\"Hello World.\") #this is a python comment"
      ],
      "metadata": {
        "colab": {
          "base_uri": "https://localhost:8080/"
        },
        "id": "7GbKTbtVjdTV",
        "outputId": "ad4224ad-c0ea-42a3-b4e4-ed6a2eff060c"
      },
      "execution_count": 13,
      "outputs": [
        {
          "output_type": "stream",
          "name": "stdout",
          "text": [
            "Hello World.\n"
          ]
        }
      ]
    },
    {
      "cell_type": "markdown",
      "source": [
        "Python Variable"
      ],
      "metadata": {
        "id": "qExiKuyfkkMh"
      }
    },
    {
      "cell_type": "code",
      "source": [
        "x=1\n",
        "a,b=0,-1\n",
        "a,b,c=0,-1,2\n",
        "d=\"String example.\"\n",
        "print(a,b,c,d)"
      ],
      "metadata": {
        "colab": {
          "base_uri": "https://localhost:8080/"
        },
        "id": "muz42tbOkgyC",
        "outputId": "e607a8ed-53c2-460b-f2a6-666412a4252d"
      },
      "execution_count": 19,
      "outputs": [
        {
          "output_type": "stream",
          "name": "stdout",
          "text": [
            "0 -1 2 String example.\n"
          ]
        }
      ]
    },
    {
      "cell_type": "markdown",
      "source": [
        "Casting"
      ],
      "metadata": {
        "id": "LZerOHZmmGjQ"
      }
    },
    {
      "cell_type": "code",
      "source": [
        "b = \"Sally\"\n",
        "b = int(4)\n",
        "print(b)\n",
        "\n",
        "b=float(4)\n",
        "print(b)"
      ],
      "metadata": {
        "colab": {
          "base_uri": "https://localhost:8080/"
        },
        "id": "ybXnzfJJlZck",
        "outputId": "425e3c4c-26b3-474b-fdd2-4da8887e4d56"
      },
      "execution_count": 21,
      "outputs": [
        {
          "output_type": "stream",
          "name": "stdout",
          "text": [
            "4\n",
            "4.0\n"
          ]
        }
      ]
    },
    {
      "cell_type": "markdown",
      "source": [
        "Type() function"
      ],
      "metadata": {
        "id": "4QAoL-VKmrJt"
      }
    },
    {
      "cell_type": "code",
      "source": [
        "x=5\n",
        "y=\"John\"\n",
        "print(type(x))\n",
        "print(type(y))"
      ],
      "metadata": {
        "colab": {
          "base_uri": "https://localhost:8080/"
        },
        "id": "bLcEh6HvmvjO",
        "outputId": "8f172122-8780-4fd2-a6cc-25d9cb91b5bf"
      },
      "execution_count": 22,
      "outputs": [
        {
          "output_type": "stream",
          "name": "stdout",
          "text": [
            "<class 'int'>\n",
            "<class 'str'>\n"
          ]
        }
      ]
    },
    {
      "cell_type": "markdown",
      "source": [
        "Double Quotes or Single Quotes"
      ],
      "metadata": {
        "id": "FFI796_am5E3"
      }
    },
    {
      "cell_type": "code",
      "source": [
        "y=\"John\"\n",
        "print(y)"
      ],
      "metadata": {
        "colab": {
          "base_uri": "https://localhost:8080/"
        },
        "id": "a-scw5mqm13Q",
        "outputId": "31b04a6a-aabc-481e-f739-8d844096784c"
      },
      "execution_count": 23,
      "outputs": [
        {
          "output_type": "stream",
          "name": "stdout",
          "text": [
            "John\n"
          ]
        }
      ]
    },
    {
      "cell_type": "markdown",
      "source": [
        "Case Sensitive"
      ],
      "metadata": {
        "id": "v4ZIdhmjnFU1"
      }
    },
    {
      "cell_type": "code",
      "source": [
        "a=int(4)\n",
        "A=\"Sally\"\n",
        "print(A, \"is already\", a)"
      ],
      "metadata": {
        "colab": {
          "base_uri": "https://localhost:8080/"
        },
        "id": "B408xobWnEXN",
        "outputId": "6bf912ce-0509-4cd9-a204-a71b5f240500"
      },
      "execution_count": 26,
      "outputs": [
        {
          "output_type": "stream",
          "name": "stdout",
          "text": [
            "Sally is already 4\n"
          ]
        }
      ]
    },
    {
      "cell_type": "markdown",
      "source": [
        "Multiple Variables"
      ],
      "metadata": {
        "id": "9XsgvUbHnbMf"
      }
    },
    {
      "cell_type": "code",
      "source": [
        "x,y,z=\"one\",\"two\",\"three\"\n",
        "print(x,y,z)"
      ],
      "metadata": {
        "colab": {
          "base_uri": "https://localhost:8080/"
        },
        "id": "cs_DnX5OnTF9",
        "outputId": "d7510b97-bba8-484e-fbd3-4dbe16266380"
      },
      "execution_count": 27,
      "outputs": [
        {
          "output_type": "stream",
          "name": "stdout",
          "text": [
            "one two three\n"
          ]
        }
      ]
    },
    {
      "cell_type": "markdown",
      "source": [
        "One Value to Multiple Variables"
      ],
      "metadata": {
        "id": "mgCncoOfn0ut"
      }
    },
    {
      "cell_type": "code",
      "source": [
        "x=y=z=\"four\"\n",
        "print(x,y,z)"
      ],
      "metadata": {
        "colab": {
          "base_uri": "https://localhost:8080/"
        },
        "id": "AXMVuzxlnz4G",
        "outputId": "595dc90f-9b52-455a-8845-c8bf8016fbe4"
      },
      "execution_count": 28,
      "outputs": [
        {
          "output_type": "stream",
          "name": "stdout",
          "text": [
            "four four four\n"
          ]
        }
      ]
    },
    {
      "cell_type": "markdown",
      "source": [
        "Output Variables"
      ],
      "metadata": {
        "id": "0zBFjTBHn9lU"
      }
    },
    {
      "cell_type": "code",
      "source": [
        "x=\"enjoying\"\n",
        "print(\"Python programming is \" + x)"
      ],
      "metadata": {
        "colab": {
          "base_uri": "https://localhost:8080/"
        },
        "id": "hP__EJKWn8r2",
        "outputId": "0ec1c52b-7edd-4c9a-c60e-877681cabd0a"
      },
      "execution_count": 32,
      "outputs": [
        {
          "output_type": "stream",
          "name": "stdout",
          "text": [
            "Python programming is enjoying\n"
          ]
        }
      ]
    },
    {
      "cell_type": "markdown",
      "source": [
        "Other way:"
      ],
      "metadata": {
        "id": "Rmx0k1w_o7sq"
      }
    },
    {
      "cell_type": "code",
      "source": [
        "x=\"Python programming is \"\n",
        "y=\"enjoying\"\n",
        "z=x+y\n",
        "print(z)"
      ],
      "metadata": {
        "colab": {
          "base_uri": "https://localhost:8080/"
        },
        "id": "FdGBpQ7FoLOK",
        "outputId": "51add855-31fe-4b85-f844-ecd4b8089a79"
      },
      "execution_count": 34,
      "outputs": [
        {
          "output_type": "stream",
          "name": "stdout",
          "text": [
            "Python programming is enjoying\n"
          ]
        }
      ]
    },
    {
      "cell_type": "markdown",
      "source": [
        "Arithmetic Operations"
      ],
      "metadata": {
        "id": "8OaPstRupJlP"
      }
    },
    {
      "cell_type": "code",
      "source": [
        "x=5\n",
        "y=3\n",
        "print(x+y)\n",
        "\n",
        "x=5\n",
        "y=3\n",
        "sum=x+y\n",
        "print(sum)"
      ],
      "metadata": {
        "colab": {
          "base_uri": "https://localhost:8080/"
        },
        "id": "pCOKm1sapE_R",
        "outputId": "a0dfb57f-3e83-44ad-e750-90cdbac90cc8"
      },
      "execution_count": 35,
      "outputs": [
        {
          "output_type": "stream",
          "name": "stdout",
          "text": [
            "8\n",
            "8\n"
          ]
        }
      ]
    },
    {
      "cell_type": "markdown",
      "source": [
        "Assignment Operators"
      ],
      "metadata": {
        "id": "vnyVYYnUpklu"
      }
    },
    {
      "cell_type": "code",
      "source": [
        "a,b,c=0,-1,6\n",
        "c%=3\n",
        "print(c)"
      ],
      "metadata": {
        "colab": {
          "base_uri": "https://localhost:8080/"
        },
        "id": "acMVpDPoph0J",
        "outputId": "0a6efd06-62b3-4059-9671-a8a234039d65"
      },
      "execution_count": 38,
      "outputs": [
        {
          "output_type": "stream",
          "name": "stdout",
          "text": [
            "0\n"
          ]
        }
      ]
    },
    {
      "cell_type": "markdown",
      "source": [
        "Comparison Operators and Logical Operators"
      ],
      "metadata": {
        "id": "dp-YdF5kp4TF"
      }
    },
    {
      "cell_type": "code",
      "source": [
        "a,b,c=0,-1,6\n",
        "a>b and c>b\n",
        "True"
      ],
      "metadata": {
        "colab": {
          "base_uri": "https://localhost:8080/"
        },
        "id": "IQgeLTcRpsxj",
        "outputId": "176ac38e-7bd3-4b89-de7e-532f96ad19b3"
      },
      "execution_count": 40,
      "outputs": [
        {
          "output_type": "execute_result",
          "data": {
            "text/plain": [
              "True"
            ]
          },
          "metadata": {},
          "execution_count": 40
        }
      ]
    },
    {
      "cell_type": "markdown",
      "source": [
        "Identity Operators"
      ],
      "metadata": {
        "id": "d8YGvB5JqQzj"
      }
    },
    {
      "cell_type": "code",
      "source": [
        "a,b,c=(0,-1,5)\n",
        "a is c\n",
        "False"
      ],
      "metadata": {
        "colab": {
          "base_uri": "https://localhost:8080/"
        },
        "id": "tY9TvLoqqHcH",
        "outputId": "cd0d3140-84f8-4073-cb1e-cde48391e05a"
      },
      "execution_count": 42,
      "outputs": [
        {
          "output_type": "execute_result",
          "data": {
            "text/plain": [
              "False"
            ]
          },
          "metadata": {},
          "execution_count": 42
        }
      ]
    },
    {
      "cell_type": "code",
      "source": [],
      "metadata": {
        "id": "8dZWNQhEqaTV"
      },
      "execution_count": null,
      "outputs": []
    }
  ]
}